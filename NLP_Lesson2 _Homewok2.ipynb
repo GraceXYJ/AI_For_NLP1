{
 "cells": [
  {
   "cell_type": "markdown",
   "metadata": {},
   "source": [
    "# NLP_Lesson2 _Homewok2"
   ]
  },
  {
   "cell_type": "markdown",
   "metadata": {},
   "source": [
    "1. How to Github and Why do we use Jupyter and Pycharm;¶\n",
    "Ans: 使用 Github可以使多个人一起修改程序，批准通过后修改成功。\n",
    "      Jupyter作为讲解展示的工具时，使用效果好。\n",
    "      Pycharm对程序进行调试更好用。"
   ]
  },
  {
   "cell_type": "markdown",
   "metadata": {},
   "source": [
    "2. What's the Probability Model?¶\n",
    "Ans:根据概率进行建模。"
   ]
  },
  {
   "cell_type": "markdown",
   "metadata": {},
   "source": [
    "3. Can you came up with some sceneraies at which we could use Probability Model?¶\n",
    "Ans:根据前一天或者前几天的天气情况判断第二天的天气情况。"
   ]
  },
  {
   "cell_type": "markdown",
   "metadata": {},
   "source": [
    "4. Why do we use probability and what's the difficult points for programming based on parsing and pattern match?¶\n",
    "Ans:运用概率简单直观。基于解析和模式匹配的方式编程需要人进行相对复杂的逻辑思维。"
   ]
  },
  {
   "cell_type": "markdown",
   "metadata": {},
   "source": [
    "5. What's the Language Model;¶\n",
    "Ans:根据词或者词组出现的概率判断语句的合理性。"
   ]
  },
  {
   "cell_type": "markdown",
   "metadata": {},
   "source": [
    "6. Can you came up with some sceneraies at which we could use Language Model?¶\n",
    "Ans:判断对话机器人输出语句是否符合人类平时的说话方式。"
   ]
  },
  {
   "cell_type": "markdown",
   "metadata": {},
   "source": [
    "7. What's the 1-gram language model;¶\n",
    "Ans:将每个词出现的概率乘起来，用得到的结果判断句子的合理性。"
   ]
  },
  {
   "cell_type": "markdown",
   "metadata": {},
   "source": [
    "8. What's the disadvantages and advantages of 1-gram language model;¶\n",
    "Ans:优点：模型简单，投入产出比高。\n",
    "    缺点：需要精确判断的场合，精度不够。"
   ]
  },
  {
   "cell_type": "markdown",
   "metadata": {},
   "source": [
    "9. What't the 2-gram models;¶\n",
    "Ans:将每个词在前面的一个词出现的条件概率乘起来，用得到的结果判断句子的合理性。"
   ]
  },
  {
   "cell_type": "markdown",
   "metadata": {},
   "source": [
    "10. what's the web crawler, and can you implement a simple crawler?¶\n",
    "Ans:网络爬虫是一种按照一定的规则，自动地抓取万维网信息的程序或者脚本。\n",
    "    可以。"
   ]
  },
  {
   "cell_type": "markdown",
   "metadata": {},
   "source": [
    "11. There may be some issues to make our crwaler programming difficult, what are these, and how do we solve them?\n",
    "Ans:一些弹窗，动画等抓取有困难。可以自己编一个浏览器程序，对这些内容进行解析。"
   ]
  },
  {
   "cell_type": "markdown",
   "metadata": {},
   "source": [
    "12. What't the Regular Expression and how to use?¶\n",
    "Ans:正则表达式。正则表达式通常被用来检索、替换那些符合某个模式(规则)的文本。"
   ]
  }
 ],
 "metadata": {
  "kernelspec": {
   "display_name": "Python 3",
   "language": "python",
   "name": "python3"
  },
  "language_info": {
   "codemirror_mode": {
    "name": "ipython",
    "version": 3
   },
   "file_extension": ".py",
   "mimetype": "text/x-python",
   "name": "python",
   "nbconvert_exporter": "python",
   "pygments_lexer": "ipython3",
   "version": "3.7.1"
  }
 },
 "nbformat": 4,
 "nbformat_minor": 2
}
