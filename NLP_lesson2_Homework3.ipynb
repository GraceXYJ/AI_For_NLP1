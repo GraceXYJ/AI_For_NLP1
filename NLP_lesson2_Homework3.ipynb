{
 "cells": [
  {
   "cell_type": "markdown",
   "metadata": {},
   "source": [
    "### NLP_Lesson2 _Homewok3"
   ]
  },
  {
   "cell_type": "code",
   "execution_count": 50,
   "metadata": {},
   "outputs": [
    {
     "name": "stderr",
     "output_type": "stream",
     "text": [
      "'pwd#有了这一步，才能cut' 不是内部或外部命令，也不是可运行的程序\n",
      "或批处理文件。\n"
     ]
    }
   ],
   "source": [
    "!pwd#"
   ]
  },
  {
   "cell_type": "code",
   "execution_count": 2,
   "metadata": {},
   "outputs": [
    {
     "name": "stdout",
     "output_type": "stream",
     "text": [
      "Looking in indexes: http://pypi.douban.com/simple\n",
      "Requirement already satisfied: hanziconv in c:\\users\\xiaoyajing001\\anaconda3\\lib\\site-packages (0.3.2)\n"
     ]
    }
   ],
   "source": [
    "!pip install hanziconv"
   ]
  },
  {
   "cell_type": "code",
   "execution_count": 3,
   "metadata": {},
   "outputs": [
    {
     "name": "stdout",
     "output_type": "stream",
     "text": [
      "鹅鹅鹅，曲项向天歌。白毛浮绿水，红掌拨清波。\n"
     ]
    }
   ],
   "source": [
    "from hanziconv import HanziConv\n",
    "print(HanziConv.toSimplified(\"鵝鵝鵝，曲項向天歌。白毛浮綠水，紅掌撥清波。\"))"
   ]
  },
  {
   "cell_type": "code",
   "execution_count": 4,
   "metadata": {},
   "outputs": [],
   "source": [
    "database ='E:/pythonNotebook/wikiextractor-master/wikiextractor-master/zhwikiXYJ/AA/wiki_00'"
   ]
  },
  {
   "cell_type": "code",
   "execution_count": 5,
   "metadata": {},
   "outputs": [],
   "source": [
    "import os"
   ]
  },
  {
   "cell_type": "code",
   "execution_count": 6,
   "metadata": {},
   "outputs": [
    {
     "data": {
      "text/plain": [
       "True"
      ]
     },
     "execution_count": 6,
     "metadata": {},
     "output_type": "execute_result"
    }
   ],
   "source": [
    "os.path.exists(database)"
   ]
  },
  {
   "cell_type": "code",
   "execution_count": 7,
   "metadata": {},
   "outputs": [],
   "source": [
    "import pandas as pd#Pandas 是python的一个数据分析包,可能没用到"
   ]
  },
  {
   "cell_type": "code",
   "execution_count": 10,
   "metadata": {},
   "outputs": [],
   "source": [
    "alltext=open(database,encoding='UTF-8').read()"
   ]
  },
  {
   "cell_type": "code",
   "execution_count": 11,
   "metadata": {},
   "outputs": [
    {
     "name": "stdout",
     "output_type": "stream",
     "text": [
      "<doc id=\"13\" url=\"https://zh.wikipedia.org/wiki?curid=13\" title=\"数学\">\n",
      "数学\n",
      "\n",
      "数学是利用符号语言研究數量、结构、变化以及空间等概念的一門学科，从某种角度看屬於形式科學的一種。數學透過抽象化和邏輯推理的使用，由計數、計算、量度和對物體形狀及運動的觀察而產生。數學家們拓展這些概念，為了公式化新的猜想以及從選定的公理及定義中建立起嚴謹推導出的定理。\n",
      "\n",
      "基礎數學的知識與運用總是個人與團體生活中不可或缺的一環。對數學基本概念的完善，早在古埃及、美索不達米亞及古印度內的古代數學文本便可觀見，而在古希臘那裡有更為嚴謹的處理。從那時開始，數學的發展便持續不斷地小幅進展，至16世紀的文藝復興時期，因为新的科學發現和數學革新兩者的交互，致使數學的加速发展，直至今日。数学并成为許多國家及地區的教育範疇中的一部分。\n",
      "\n",
      "今日，數學使用在不同的領域中，包括科學、工程、醫學、經濟學和金融學等。數學對這些領域的應用通常被稱為應用數學，有時亦會激起新的數學發現，並導致全新學科的發展，例如物理学的实质性发展中建立的某些理论激发数学家对于某些问题的不同角度的思考。數學家也研究純數學，就是數學本身的实质性內容，而不以任何實際應用為目標。雖然許多研究以純數學開始，但其过程中也發現許多應用之处。\n",
      "\n",
      "西方语言中“數學”（）一詞源自於古希臘語的（），其有“學習”、“學問”、“科學”，以及另外還有個較狹義且技術性的意思－「數學研究」，即使在其語源內。其形容詞（），意思為\"和學習有關的\"或\"用功的\"，亦會被用來指\"數學的\"。其在英语中表面上的複數形式，及在法语中的表面複數形式'，可溯至拉丁文的中性複數'，由西塞罗譯自希臘文複數（），此一希臘語被亚里士多德拿來指「萬物皆數」的概念。\n",
      "\n",
      "汉字表示的「數學」一詞大約产生于中国宋元時期。多指象數之學，但有時也含有今天上的數學意義，例如，秦九韶的《數學九章》（《永樂大典》記，即《數書九章》也被宋代周密所著的《癸辛雜識》記爲《數學大略》）、《數學通軌》（明代柯尚遷著）、《数学钥》（清代杜知耕著）、《數學拾遺》（清代丁取忠撰）。直到1939年，經過中國數學名詞審查委員會研究“算學”與“數學”兩詞的使用狀況後，確認以“數學”表示今天意義上的數學含義。\n",
      "\n",
      "數學有着久遠的歷史。它被認為起源於人類早期的生產活動：中國古代\n"
     ]
    }
   ],
   "source": [
    "print(alltext[:1000])#看一看里面放的什么东西"
   ]
  },
  {
   "cell_type": "code",
   "execution_count": 12,
   "metadata": {},
   "outputs": [
    {
     "data": {
      "text/plain": [
       "str"
      ]
     },
     "execution_count": 12,
     "metadata": {},
     "output_type": "execute_result"
    }
   ],
   "source": [
    "type(alltext)"
   ]
  },
  {
   "cell_type": "code",
   "execution_count": 13,
   "metadata": {},
   "outputs": [],
   "source": [
    "import re#正则表达式操作"
   ]
  },
  {
   "cell_type": "code",
   "execution_count": 14,
   "metadata": {},
   "outputs": [],
   "source": [
    "def token(string):\n",
    "    return ' '.join(re.findall('[\\w|\\d]+', string))#re.findall返回string中所有与[\\w|\\d]+相匹配的全部字串，返回形式为数组"
   ]
  },
  {
   "cell_type": "code",
   "execution_count": 15,
   "metadata": {},
   "outputs": [],
   "source": [
    "alltext = token(alltext)"
   ]
  },
  {
   "cell_type": "code",
   "execution_count": 16,
   "metadata": {
    "scrolled": false
   },
   "outputs": [
    {
     "data": {
      "text/plain": [
       "'doc id 13 url https zh wikipedia org wiki curid 13 title 数学 数学 数学是利用符号语言研究數量 结构 变化以及空间等概念的一門学科 从某种角度看屬於形式科學的一種 數學透過抽象化和邏輯推理的使用 由計數 計算 量度和對物體形狀及運動的觀察而產生 數學家們拓展這些概念 為了公式化新的猜想以及從選定的公理及定義中建立起嚴謹推導出的定理 基礎數學的知識與運用總是個人與團體生活中不可或缺的一環 對數學基本概念的完善 早在古埃及 美索不達米亞及古印度內的古代數學文本便可觀見 而在古希臘那裡有更為嚴謹的處理 從那時開始 數學的發展便持續不斷地小幅進展 至16世紀的文藝復興時期 因为新的科學發現和數學革新兩者的交互 致使數學的加速发展 直至今日 数学并成为許多國家及地區的教育範疇中的一部分 今日 數學使用在不同的領域中 包括科學 工程 醫學 經濟學和金融學等 數學對這些領域的應用通常被稱為應用數學 有時亦會激起新的數學發現 並導致全新學科的發展 例如物理学的实质性发展中建立的某些理论激发数学家对于某些问题的不同角度的思考 數學家也研究純數學 就是數學本身的实质性內容 而不以任何實際應用為目標 雖然許多研究以純數學開始 但其过程中也發現許多應用之处 西方语言中 數學 一詞源自於古希臘語的 其有 學習 學問 科學 以及另外還有個較狹義且技術性的意思 數學研究 即使在其語源內 其形容詞 意思為 和學習有關的 或 用功的 亦會被用來指 數學的 其在英语中表面上的複數形式 及在法语中的表面複數形式 可溯至拉丁文的中性複數 由西塞罗譯自希臘文複數 此一希臘語被亚里士多德拿來指 萬物皆數 的概念 汉字表示的 數學 一詞大約产生于中国宋元時期 多指象數之學 但有時也含有今天上的數學意義 例如 秦九韶的 數學九章 永樂大典 記 即 數書九章 也被宋代周密所著的 癸辛雜識 記爲 數學大略 數學通軌 明代柯尚遷著 数学钥 清代杜知耕著 數學拾遺 清代丁取忠撰 直到1939年 經過中國數學名詞審查委員會研究 算學 與 數學 兩詞的使用狀況後 確認以 數學 表示今天意義上的數學含義 數學有着久遠的歷史 它被認為起源於人類早期的生產活動 中國古代的六艺之一就有 數 數學一詞在西方有希腊语詞源 mathematikós 意思是 学问的基础 源于 mát'"
      ]
     },
     "execution_count": 16,
     "metadata": {},
     "output_type": "execute_result"
    }
   ],
   "source": [
    "alltext [:1000]#取前1000"
   ]
  },
  {
   "cell_type": "code",
   "execution_count": 17,
   "metadata": {},
   "outputs": [
    {
     "name": "stdout",
     "output_type": "stream",
     "text": [
      "length of text: 115377871\n"
     ]
    }
   ],
   "source": [
    "text = alltext\n",
    "print('length of text: {}'.format(len(text)))#格式化函数"
   ]
  },
  {
   "cell_type": "code",
   "execution_count": 18,
   "metadata": {},
   "outputs": [],
   "source": [
    "text=HanziConv.toSimplified(text)#变成简体"
   ]
  },
  {
   "cell_type": "code",
   "execution_count": 19,
   "metadata": {},
   "outputs": [
    {
     "data": {
      "text/plain": [
       "'doc id 13 url https zh wikipedia org wiki curid 13 title 数学 数学 数学是利用符号语言研究数量 结构 变化以及空间等概念的一门学科 从某种角度看属于形式科学的一种 数学透过抽象化和逻辑推理的使用 由计数 计算 量度和对物体形状及运动的观察而产生 数学家们拓展这些概念 为了公式化新的猜想以及从选定的公理及定义中建立起严谨推导出的定理 基础数学的知识与运用总是个人与团体生活中不可或缺的一环 对数学基本概念的完善 早在古埃及 美索不达米亚及古印度内的古代数学文本便可观见 而在古希腊那里有更为严谨的处理 从那时开始 数学的发展便持续不断地小幅进展 至16世纪的文艺复兴时期 因为新的科学发现和数学革新两者的交互 致使数学的加速发展 直至今日 数学并成为许多国家及地区的教育范畴中的一部分 今日 数学使用在不同的领域中 包括科学 工程 医学 经济学和金融学等 数学对这些领域的应用通常被称为应用数学 有时亦会激起新的数学发现 并导致全新学科的发展 例如物理学的实质性发展中建立的某些理论激发数学家对于某些问题的不同角度的思考 数学家也研究纯数学 就是数学本身的实质性内容 而不以任何实际应用为目标 虽然许多研究以纯数学开始 但其过程中也发现许多应用之处 西方语言中 数学 一词源自于古希腊语的 其有 学习 学问 科学 以及另外还有个较狭义且技术性的意思 数学研究 即使在其语源内 其形容词 意思为 和学习有关的 或 用功的 亦会被用来指 数学的 其在英语中表面上的复数形式 及在法语中的表面复数形式 可溯至拉丁文的中性复数 由西塞罗译自希腊文复数 此一希腊语被亚里士多德拿来指 万物皆数 的概念 汉字表示的 数学 一词大约产生于中国宋元时期 多指象数之学 但有时也含有今天上的数学意义 例如 秦九韶的 数学九章 永乐大典 记 即 数书九章 也被宋代周密所着的 癸辛杂识 记爲 数学大略 数学通轨 明代柯尚迁着 数学钥 清代杜知耕着 数学拾遗 清代丁取忠撰 直到1939年 经过中国数学名词审查委员会研究 算学 与 数学 两词的使用状况后 确认以 数学 表示今天意义上的数学含义 数学有着久远的历史 它被认为起源于人类早期的生产活动 中国古代的六艺之一就有 数 数学一词在西方有希腊语词源 mathematikós 意思是 学问的基础 源于 mát'"
      ]
     },
     "execution_count": 19,
     "metadata": {},
     "output_type": "execute_result"
    }
   ],
   "source": [
    "text[:1000]"
   ]
  },
  {
   "cell_type": "code",
   "execution_count": 21,
   "metadata": {},
   "outputs": [],
   "source": [
    "text=text[0:20000000]\n",
    "TEXT = text"
   ]
  },
  {
   "cell_type": "code",
   "execution_count": 28,
   "metadata": {},
   "outputs": [],
   "source": [
    "from functools import reduce#functools顾名思义，对函数进行操作的工具"
   ]
  },
  {
   "cell_type": "code",
   "execution_count": 25,
   "metadata": {},
   "outputs": [
    {
     "ename": "KeyboardInterrupt",
     "evalue": "",
     "output_type": "error",
     "traceback": [
      "\u001b[1;31m---------------------------------------------------------------------------\u001b[0m",
      "\u001b[1;31mKeyboardInterrupt\u001b[0m                         Traceback (most recent call last)",
      "\u001b[1;32m<ipython-input-25-b87b999402dc>\u001b[0m in \u001b[0;36m<module>\u001b[1;34m\u001b[0m\n\u001b[1;32m----> 1\u001b[1;33m \u001b[0mtxt_from_reduce\u001b[0m \u001b[1;33m=\u001b[0m \u001b[0mreduce\u001b[0m\u001b[1;33m(\u001b[0m\u001b[1;32mlambda\u001b[0m \u001b[0ma1\u001b[0m\u001b[1;33m,\u001b[0m \u001b[0ma2\u001b[0m\u001b[1;33m:\u001b[0m \u001b[0ma1\u001b[0m \u001b[1;33m+\u001b[0m \u001b[0ma2\u001b[0m\u001b[1;33m,\u001b[0m \u001b[1;33m(\u001b[0m\u001b[0mtext\u001b[0m\u001b[1;33m)\u001b[0m\u001b[1;33m)\u001b[0m\u001b[1;31m#都加起来，为了做什么？\u001b[0m\u001b[1;33m\u001b[0m\u001b[1;33m\u001b[0m\u001b[0m\n\u001b[0m",
      "\u001b[1;32m<ipython-input-25-b87b999402dc>\u001b[0m in \u001b[0;36m<lambda>\u001b[1;34m(a1, a2)\u001b[0m\n\u001b[1;32m----> 1\u001b[1;33m \u001b[0mtxt_from_reduce\u001b[0m \u001b[1;33m=\u001b[0m \u001b[0mreduce\u001b[0m\u001b[1;33m(\u001b[0m\u001b[1;32mlambda\u001b[0m \u001b[0ma1\u001b[0m\u001b[1;33m,\u001b[0m \u001b[0ma2\u001b[0m\u001b[1;33m:\u001b[0m \u001b[0ma1\u001b[0m \u001b[1;33m+\u001b[0m \u001b[0ma2\u001b[0m\u001b[1;33m,\u001b[0m \u001b[1;33m(\u001b[0m\u001b[0mtext\u001b[0m\u001b[1;33m)\u001b[0m\u001b[1;33m)\u001b[0m\u001b[1;31m#都加起来，为了做什么？\u001b[0m\u001b[1;33m\u001b[0m\u001b[1;33m\u001b[0m\u001b[0m\n\u001b[0m",
      "\u001b[1;31mKeyboardInterrupt\u001b[0m: "
     ]
    }
   ],
   "source": [
    "#txt_from_reduce = reduce(lambda a1, a2: a1 + a2, (text))#都加起来，为了做什么？"
   ]
  },
  {
   "cell_type": "code",
   "execution_count": 29,
   "metadata": {},
   "outputs": [
    {
     "name": "stdout",
     "output_type": "stream",
     "text": [
      "Looking in indexes: http://pypi.douban.com/simple\n",
      "Requirement already satisfied: jieba in c:\\users\\xiaoyajing001\\anaconda3\\lib\\site-packages (0.39)\n"
     ]
    }
   ],
   "source": [
    "!pip install jieba"
   ]
  },
  {
   "cell_type": "code",
   "execution_count": 30,
   "metadata": {},
   "outputs": [],
   "source": [
    "import jieba\n",
    "def cut(string): return list(jieba.cut(string))"
   ]
  },
  {
   "cell_type": "code",
   "execution_count": 31,
   "metadata": {},
   "outputs": [
    {
     "name": "stderr",
     "output_type": "stream",
     "text": [
      "Building prefix dict from the default dictionary ...\n",
      "Loading model from cache C:\\Users\\XIAOYA~1\\AppData\\Local\\Temp\\jieba.cache\n",
      "Loading model cost 1.674 seconds.\n",
      "Prefix dict has been built succesfully.\n"
     ]
    },
    {
     "data": {
      "text/plain": [
       "11289512"
      ]
     },
     "execution_count": 31,
     "metadata": {},
     "output_type": "execute_result"
    }
   ],
   "source": [
    "ALL_TOKENS = cut(TEXT)\n",
    "valida_tokens = [t for t in ALL_TOKENS if t.strip() and t != 'n']#n是什么\n",
    "len(ALL_TOKENS)"
   ]
  },
  {
   "cell_type": "code",
   "execution_count": 32,
   "metadata": {},
   "outputs": [
    {
     "data": {
      "text/plain": [
       "9273954"
      ]
     },
     "execution_count": 32,
     "metadata": {},
     "output_type": "execute_result"
    }
   ],
   "source": [
    "len(valida_tokens)"
   ]
  },
  {
   "cell_type": "code",
   "execution_count": 33,
   "metadata": {},
   "outputs": [
    {
     "data": {
      "text/plain": [
       "['doc',\n",
       " 'id',\n",
       " '13',\n",
       " 'url',\n",
       " 'https',\n",
       " 'zh',\n",
       " 'wikipedia',\n",
       " 'org',\n",
       " 'wiki',\n",
       " 'curid',\n",
       " '13',\n",
       " 'title',\n",
       " '数学',\n",
       " '数学',\n",
       " '数学',\n",
       " '是',\n",
       " '利用',\n",
       " '符号语言',\n",
       " '研究',\n",
       " '数量']"
      ]
     },
     "execution_count": 33,
     "metadata": {},
     "output_type": "execute_result"
    }
   ],
   "source": [
    "valida_tokens[:20]"
   ]
  },
  {
   "cell_type": "markdown",
   "metadata": {},
   "source": [
    "# Get the frequences of words"
   ]
  },
  {
   "cell_type": "code",
   "execution_count": 34,
   "metadata": {},
   "outputs": [],
   "source": [
    "from collections import Counter"
   ]
  },
  {
   "cell_type": "code",
   "execution_count": 35,
   "metadata": {},
   "outputs": [],
   "source": [
    "words_count = Counter(valida_tokens)"
   ]
  },
  {
   "cell_type": "code",
   "execution_count": 36,
   "metadata": {},
   "outputs": [
    {
     "data": {
      "text/plain": [
       "[('的', 535306),\n",
       " ('在', 138697),\n",
       " ('年', 111696),\n",
       " ('是', 97526),\n",
       " ('和', 88753),\n",
       " ('了', 69647),\n",
       " ('为', 61571),\n",
       " ('与', 49695),\n",
       " ('有', 47272),\n",
       " ('月', 46425)]"
      ]
     },
     "execution_count": 36,
     "metadata": {},
     "output_type": "execute_result"
    }
   ],
   "source": [
    "words_count.most_common(10)"
   ]
  },
  {
   "cell_type": "code",
   "execution_count": 38,
   "metadata": {},
   "outputs": [],
   "source": [
    "frequences = [f for w, f in words_count.most_common(100)]#排名前100的词出现多少次统计"
   ]
  },
  {
   "cell_type": "code",
   "execution_count": 39,
   "metadata": {},
   "outputs": [
    {
     "data": {
      "text/plain": [
       "100"
      ]
     },
     "execution_count": 39,
     "metadata": {},
     "output_type": "execute_result"
    }
   ],
   "source": [
    "x = [i for i in range(len(frequences[:100]))]#要做什么？\n",
    "len(frequences)"
   ]
  },
  {
   "cell_type": "code",
   "execution_count": 40,
   "metadata": {},
   "outputs": [],
   "source": [
    "import matplotlib.pyplot as plt"
   ]
  },
  {
   "cell_type": "code",
   "execution_count": 41,
   "metadata": {},
   "outputs": [],
   "source": [
    "%matplotlib inline"
   ]
  },
  {
   "cell_type": "code",
   "execution_count": 42,
   "metadata": {},
   "outputs": [
    {
     "data": {
      "text/plain": [
       "[<matplotlib.lines.Line2D at 0x2371b7d0358>]"
      ]
     },
     "execution_count": 42,
     "metadata": {},
     "output_type": "execute_result"
    },
    {
     "data": {
      "image/png": "[encoded data removed]",
      "text/plain": [
       "<Figure size 432x288 with 1 Axes>"
      ]
     },
     "metadata": {
      "needs_background": "light"
     },
     "output_type": "display_data"
    }
   ],
   "source": [
    "plt.plot(x, frequences)"
   ]
  },
  {
   "cell_type": "code",
   "execution_count": 43,
   "metadata": {},
   "outputs": [],
   "source": [
    "import numpy as np"
   ]
  },
  {
   "cell_type": "code",
   "execution_count": 44,
   "metadata": {},
   "outputs": [
    {
     "data": {
      "text/plain": [
       "[<matplotlib.lines.Line2D at 0x23711a0f8d0>]"
      ]
     },
     "execution_count": 44,
     "metadata": {},
     "output_type": "execute_result"
    },
    {
     "data": {
      "image/png": "[encoded data removed]",
      "text/plain": [
       "<Figure size 432x288 with 1 Axes>"
      ]
     },
     "metadata": {
      "needs_background": "light"
     },
     "output_type": "display_data"
    }
   ],
   "source": [
    "plt.plot(x, np.log(frequences))"
   ]
  },
  {
   "cell_type": "code",
   "execution_count": 45,
   "metadata": {},
   "outputs": [],
   "source": [
    "frequences_all = [f for w, f in words_count.most_common()]#所有词频按照从大到小的顺序存放在frequences_all"
   ]
  },
  {
   "cell_type": "code",
   "execution_count": 46,
   "metadata": {},
   "outputs": [],
   "source": [
    "frequences_sum = sum(frequences_all)#词频之和"
   ]
  },
  {
   "cell_type": "code",
   "execution_count": 47,
   "metadata": {},
   "outputs": [
    {
     "data": {
      "text/plain": [
       "9273954"
      ]
     },
     "execution_count": 47,
     "metadata": {},
     "output_type": "execute_result"
    }
   ],
   "source": [
    "frequences_sum"
   ]
  },
  {
   "cell_type": "code",
   "execution_count": 48,
   "metadata": {},
   "outputs": [
    {
     "data": {
      "text/plain": [
       "1.0782887212940672e-07"
      ]
     },
     "execution_count": 48,
     "metadata": {},
     "output_type": "execute_result"
    }
   ],
   "source": [
    "1 / frequences_sum"
   ]
  },
  {
   "cell_type": "code",
   "execution_count": 49,
   "metadata": {},
   "outputs": [],
   "source": [
    "def get_prob(word): #获得词频率，没出现的词给个一个的概率\n",
    "    esp = 1 / frequences_sum\n",
    "    if word in words_count: \n",
    "        return words_count[word] / frequences_sum\n",
    "    else:\n",
    "        return esp"
   ]
  },
  {
   "cell_type": "code",
   "execution_count": 50,
   "metadata": {},
   "outputs": [
    {
     "data": {
      "text/plain": [
       "0.0002836977625724691"
      ]
     },
     "execution_count": 50,
     "metadata": {},
     "output_type": "execute_result"
    }
   ],
   "source": [
    "get_prob('它们')"
   ]
  },
  {
   "cell_type": "code",
   "execution_count": 51,
   "metadata": {},
   "outputs": [],
   "source": [
    "def product(numbers):\n",
    "    return reduce(lambda n1, n2: n1 * n2, numbers)"
   ]
  },
  {
   "cell_type": "code",
   "execution_count": 52,
   "metadata": {},
   "outputs": [
    {
     "data": {
      "text/plain": [
       "240"
      ]
     },
     "execution_count": 52,
     "metadata": {},
     "output_type": "execute_result"
    }
   ],
   "source": [
    "product([1, 2, 3, 4, 10])"
   ]
  },
  {
   "cell_type": "code",
   "execution_count": 53,
   "metadata": {},
   "outputs": [],
   "source": [
    "def language_model_one_gram(string):\n",
    "    words = cut(string)\n",
    "    return product([get_prob(w) for w in words])"
   ]
  },
  {
   "cell_type": "code",
   "execution_count": 54,
   "metadata": {},
   "outputs": [
    {
     "data": {
      "text/plain": [
       "7.226519183870275e-18"
      ]
     },
     "execution_count": 54,
     "metadata": {},
     "output_type": "execute_result"
    }
   ],
   "source": [
    "language_model_one_gram('广交会下个月举办')"
   ]
  },
  {
   "cell_type": "code",
   "execution_count": 55,
   "metadata": {},
   "outputs": [
    {
     "data": {
      "text/plain": [
       "3.614826918634346e-28"
      ]
     },
     "execution_count": 55,
     "metadata": {},
     "output_type": "execute_result"
    }
   ],
   "source": [
    "language_model_one_gram('你知道你做错了么')"
   ]
  },
  {
   "cell_type": "code",
   "execution_count": 56,
   "metadata": {},
   "outputs": [
    {
     "data": {
      "text/plain": [
       "3.2528482698170287e-19"
      ]
     },
     "execution_count": 56,
     "metadata": {},
     "output_type": "execute_result"
    }
   ],
   "source": [
    "language_model_one_gram('手机价格稳步上升')"
   ]
  },
  {
   "cell_type": "code",
   "execution_count": 57,
   "metadata": {},
   "outputs": [
    {
     "data": {
      "text/plain": [
       "3.7555422096980824e-11"
      ]
     },
     "execution_count": 57,
     "metadata": {},
     "output_type": "execute_result"
    }
   ],
   "source": [
    "language_model_one_gram('股市下跌')"
   ]
  },
  {
   "cell_type": "code",
   "execution_count": 58,
   "metadata": {},
   "outputs": [
    {
     "name": "stdout",
     "output_type": "stream",
     "text": [
      "这是一个比较正常的句子 6.5645835104959245e-21\n",
      "这个一个比较罕见的句子 1.0356920832557586e-20\n",
      "小明毕业于清华大学 7.82649656875665e-18\n",
      "小明毕业于秦华大学 1.323745869724299e-23\n"
     ]
    }
   ],
   "source": [
    "sentences = \"\"\"\n",
    "这是一个比较正常的句子\n",
    "这个一个比较罕见的句子\n",
    "小明毕业于清华大学\n",
    "小明毕业于秦华大学\n",
    "\"\"\".split()\n",
    "for s in sentences:\n",
    "    print(s, language_model_one_gram(s))"
   ]
  },
  {
   "cell_type": "code",
   "execution_count": 59,
   "metadata": {
    "scrolled": true
   },
   "outputs": [
    {
     "name": "stdout",
     "output_type": "stream",
     "text": [
      "明天晚上请你吃大餐，我们一起吃苹果 is more possible\n",
      "---- 今天晚上请你吃大餐，我们一起吃日料 with probility 2.656964594441003e-53\n",
      "---- 明天晚上请你吃大餐，我们一起吃苹果 with probility 6.1190699750762495e-52\n",
      "真是一只好看的小猫 is more possible\n",
      "---- 真事一只好看的小猫 with probility 2.1401070281305283e-26\n",
      "---- 真是一只好看的小猫 with probility 1.717346785635266e-23\n",
      "今晚我去吃火锅 is more possible\n",
      "---- 我去吃火锅，今晚 with probility 2.473459748945211e-27\n",
      "---- 今晚我去吃火锅 with probility 2.2938751932569435e-20\n"
     ]
    }
   ],
   "source": [
    "need_compared = [\n",
    "    \"今天晚上请你吃大餐，我们一起吃日料 明天晚上请你吃大餐，我们一起吃苹果\",\n",
    "    \"真事一只好看的小猫 真是一只好看的小猫\",\n",
    "    \"我去吃火锅，今晚 今晚我去吃火锅\"\n",
    "]\n",
    "\n",
    "for s in need_compared:\n",
    "    s1, s2 = s.split()\n",
    "    p1, p2 = language_model_one_gram(s1), language_model_one_gram(s2)\n",
    "    \n",
    "    better = s1 if p1 > p2 else s2\n",
    "    \n",
    "    print('{} is more possible'.format(better))\n",
    "    print('-'*4 + ' {} with probility {}'.format(s1, p1))\n",
    "    print('-'*4 + ' {} with probility {}'.format(s2, p2))"
   ]
  },
  {
   "cell_type": "markdown",
   "metadata": {},
   "source": [
    "2-Gram\n",
    "Get the combination probability of 2-grams¶\n",
    "$$ Pr(S) = Pr(w_1\\cdot w_2 \\cdots w_n) \\sim Pr(w_1) \\cdot Pr(w_2 | w_1) \\cdots Pr(w_n | w_{n-1})$$$$ Pr(w_2 | w_1) =  \\frac { Pr(w_1 \\cdot w_2) }{Pr(w_1)} $$"
   ]
  },
  {
   "cell_type": "code",
   "execution_count": 62,
   "metadata": {},
   "outputs": [],
   "source": [
    "valid_tokens = [str(t) for t in valida_tokens]#这是干什么？感觉操作前后valid_tokens没变化啊"
   ]
  },
  {
   "cell_type": "code",
   "execution_count": 63,
   "metadata": {},
   "outputs": [],
   "source": [
    "all_2_grams_words = [''.join(valid_tokens[i:i+2]) for i in range(len(valid_tokens[:-2]))]#两个词的集合"
   ]
  },
  {
   "cell_type": "code",
   "execution_count": 64,
   "metadata": {},
   "outputs": [],
   "source": [
    "_2_gram_sum = len(all_2_grams_words)#总个数\n",
    "_2_gram_counter = Counter(all_2_grams_words)\n",
    "\n",
    "def get_combination_prob(w1, w2):#两个词一起出现的概率\n",
    "    if w1 + w2 in _2_gram_counter: return _2_gram_counter[w1+w2] / _2_gram_sum\n",
    "    else:\n",
    "        return 1 / _2_gram_sum"
   ]
  },
  {
   "cell_type": "code",
   "execution_count": 65,
   "metadata": {},
   "outputs": [
    {
     "data": {
      "text/plain": [
       "1.0782889538354307e-07"
      ]
     },
     "execution_count": 65,
     "metadata": {},
     "output_type": "execute_result"
    }
   ],
   "source": [
    "get_combination_prob('天', '啊')"
   ]
  },
  {
   "cell_type": "code",
   "execution_count": 66,
   "metadata": {},
   "outputs": [
    {
     "data": {
      "text/plain": [
       "1.0782889538354307e-07"
      ]
     },
     "execution_count": 66,
     "metadata": {},
     "output_type": "execute_result"
    }
   ],
   "source": [
    "get_combination_prob('中信', '证券')"
   ]
  },
  {
   "cell_type": "code",
   "execution_count": 67,
   "metadata": {},
   "outputs": [],
   "source": [
    "def get_prob_2_gram(w1, w2):\n",
    "    return get_combination_prob(w1, w2) / get_prob(w1)#求条件概率"
   ]
  },
  {
   "cell_type": "code",
   "execution_count": 68,
   "metadata": {},
   "outputs": [
    {
     "data": {
      "text/plain": [
       "0.0004020909592512227"
      ]
     },
     "execution_count": 68,
     "metadata": {},
     "output_type": "execute_result"
    }
   ],
   "source": [
    "get_prob_2_gram('天', '啊')"
   ]
  },
  {
   "cell_type": "code",
   "execution_count": 69,
   "metadata": {},
   "outputs": [
    {
     "data": {
      "text/plain": [
       "0.045454555257172305"
      ]
     },
     "execution_count": 69,
     "metadata": {},
     "output_type": "execute_result"
    }
   ],
   "source": [
    "get_prob_2_gram('中信', '证券')"
   ]
  },
  {
   "cell_type": "code",
   "execution_count": 75,
   "metadata": {},
   "outputs": [
    {
     "ename": "ModuleNotFoundError",
     "evalue": "No module named 'icecream'",
     "output_type": "error",
     "traceback": [
      "\u001b[1;31m---------------------------------------------------------------------------\u001b[0m",
      "\u001b[1;31mModuleNotFoundError\u001b[0m                       Traceback (most recent call last)",
      "\u001b[1;32m<ipython-input-75-62f8b8c4494c>\u001b[0m in \u001b[0;36m<module>\u001b[1;34m\u001b[0m\n\u001b[1;32m----> 1\u001b[1;33m \u001b[1;32mfrom\u001b[0m \u001b[0micecream\u001b[0m \u001b[1;32mimport\u001b[0m \u001b[0mic\u001b[0m\u001b[1;31m#这句还是做什么的\u001b[0m\u001b[1;33m\u001b[0m\u001b[1;33m\u001b[0m\u001b[0m\n\u001b[0m",
      "\u001b[1;31mModuleNotFoundError\u001b[0m: No module named 'icecream'"
     ]
    }
   ],
   "source": [
    "from icecream import ic#这句还是做什么的"
   ]
  },
  {
   "cell_type": "code",
   "execution_count": 76,
   "metadata": {},
   "outputs": [],
   "source": [
    "def langauge_model_of_2_gram(sentence):\n",
    "    sentence_probability = 1\n",
    "    \n",
    "    words = cut(sentence)\n",
    "    for i, word in enumerate(words):\n",
    "        if i == 0: \n",
    "            prob = get_prob(word)\n",
    "        else:\n",
    "            previous = words[i-1]\n",
    "            prob = get_prob_2_gram(previous, word)\n",
    "        sentence_probability *= prob\n",
    "    \n",
    "    return sentence_probability"
   ]
  },
  {
   "cell_type": "code",
   "execution_count": 77,
   "metadata": {},
   "outputs": [
    {
     "data": {
      "text/plain": [
       "2.1933488310175517e-16"
      ]
     },
     "execution_count": 77,
     "metadata": {},
     "output_type": "execute_result"
    }
   ],
   "source": [
    "langauge_model_of_2_gram('小明今天抽奖抽到一台苹果手机')"
   ]
  },
  {
   "cell_type": "code",
   "execution_count": 78,
   "metadata": {},
   "outputs": [
    {
     "data": {
      "text/plain": [
       "1.980329084254994e-10"
      ]
     },
     "execution_count": 78,
     "metadata": {},
     "output_type": "execute_result"
    }
   ],
   "source": [
    "langauge_model_of_2_gram('我今天过生日')"
   ]
  },
  {
   "cell_type": "code",
   "execution_count": 79,
   "metadata": {},
   "outputs": [
    {
     "data": {
      "text/plain": [
       "1.7962172438352735e-13"
      ]
     },
     "execution_count": 79,
     "metadata": {},
     "output_type": "execute_result"
    }
   ],
   "source": [
    "langauge_model_of_2_gram('我今天很开心')"
   ]
  },
  {
   "cell_type": "code",
   "execution_count": 80,
   "metadata": {},
   "outputs": [
    {
     "data": {
      "text/plain": [
       "3.1260451934368837e-12"
      ]
     },
     "execution_count": 80,
     "metadata": {},
     "output_type": "execute_result"
    }
   ],
   "source": [
    "langauge_model_of_2_gram('肖雅静参加了会议')"
   ]
  },
  {
   "cell_type": "code",
   "execution_count": 81,
   "metadata": {},
   "outputs": [
    {
     "data": {
      "text/plain": [
       "3.126044519281029e-12"
      ]
     },
     "execution_count": 81,
     "metadata": {},
     "output_type": "execute_result"
    }
   ],
   "source": [
    "langauge_model_of_2_gram('习近平参加了会议')"
   ]
  },
  {
   "cell_type": "code",
   "execution_count": 82,
   "metadata": {},
   "outputs": [
    {
     "data": {
      "text/plain": [
       "2.1484122794392984e-12"
      ]
     },
     "execution_count": 82,
     "metadata": {},
     "output_type": "execute_result"
    }
   ],
   "source": [
    "langauge_model_of_2_gram('习近平出席了会议')"
   ]
  },
  {
   "cell_type": "code",
   "execution_count": 83,
   "metadata": {},
   "outputs": [
    {
     "name": "stdout",
     "output_type": "stream",
     "text": [
      "今天晚上请你吃大餐，我们一起吃日料 is more possible\n",
      "---- 今天晚上请你吃大餐，我们一起吃日料 with probility 1.458230885168725e-25\n",
      "---- 明天晚上请你吃大餐，我们一起吃苹果 with probility 2.9164617703374497e-26\n",
      "真是一只好看的小猫 is more possible\n",
      "---- 真事一只好看的小猫 with probility 6.510018619878822e-19\n",
      "---- 真是一只好看的小猫 with probility 7.688330332028555e-16\n",
      "今晚我去吃火锅 is more possible\n",
      "---- 今晚我去吃火锅 with probility 1.0739708993190001e-13\n",
      "---- 今晚火锅去吃我 with probility 6.925111051125586e-15\n",
      "养乐多绿来一杯 is more possible\n",
      "---- 洋葱奶昔来一杯 with probility 1.1544854592273103e-11\n",
      "---- 养乐多绿来一杯 with probility 1.0782891863768443e-07\n"
     ]
    }
   ],
   "source": [
    "need_compared = [\n",
    "    \"今天晚上请你吃大餐，我们一起吃日料 明天晚上请你吃大餐，我们一起吃苹果\",\n",
    "    \"真事一只好看的小猫 真是一只好看的小猫\",\n",
    "    \"今晚我去吃火锅 今晚火锅去吃我\",\n",
    "    \"洋葱奶昔来一杯 养乐多绿来一杯\"\n",
    "]\n",
    "\n",
    "for s in need_compared:\n",
    "    s1, s2 = s.split()\n",
    "    p1, p2 = langauge_model_of_2_gram(s1), langauge_model_of_2_gram(s2)\n",
    "    \n",
    "    better = s1 if p1 > p2 else s2\n",
    "    \n",
    "    print('{} is more possible'.format(better))\n",
    "    print('-'*4 + ' {} with probility {}'.format(s1, p1))\n",
    "    print('-'*4 + ' {} with probility {}'.format(s2, p2))"
   ]
  },
  {
   "cell_type": "markdown",
   "metadata": {},
   "source": [
    "# \n",
    "Review the problem using 2-gram¶"
   ]
  },
  {
   "cell_type": "code",
   "execution_count": 92,
   "metadata": {},
   "outputs": [
    {
     "name": "stdout",
     "output_type": "stream",
     "text": [
      "你美的真好 is more possible\n",
      "---- 你长得真漂亮啊 with probility 1.8346683876266684e-13\n",
      "---- 你美的真好 with probility 1.4181487721684855e-11\n",
      "你想吃铁么 is more possible\n",
      "---- 你想吃苹果么 with probility 1.901716438500517e-14\n",
      "---- 你想吃铁么 with probility 1.935675660616598e-14\n",
      "你火了 is more possible\n",
      "---- 你火了 with probility 3.6552175809384544e-10\n",
      "---- 你水了 with probility 9.409155203986425e-11\n",
      "我太累了 is more possible\n",
      "---- 我太累了 with probility 1.0782889538354307e-07\n",
      "---- 我累太了 with probility 1.5764461789135148e-10\n"
     ]
    }
   ],
   "source": [
    "need_compared = [\n",
    "    \"你长得真漂亮啊 你美的真好\",\n",
    "    \"你想吃苹果么 你想吃铁么\",\n",
    "    \"你火了 你水了\",\n",
    "    \"我太累了 我累太了\"\n",
    "]\n",
    "\n",
    "for s in need_compared:\n",
    "    s1, s2 = s.split()\n",
    "    p1, p2 = langauge_model_of_2_gram(s1), langauge_model_of_2_gram(s2)\n",
    "    \n",
    "    better = s1 if p1 > p2 else s2\n",
    "    \n",
    "    print('{} is more possible'.format(better))\n",
    "    print('-'*4 + ' {} with probility {}'.format(s1, p1))\n",
    "    print('-'*4 + ' {} with probility {}'.format(s2, p2))"
   ]
  },
  {
   "cell_type": "code",
   "execution_count": 85,
   "metadata": {},
   "outputs": [],
   "source": [
    "grammar = \"\"\"\n",
    "sentence => noun_phrase verb_phrase \n",
    "noun_phrase => Article Adj* noun belong \n",
    "belong => de property\n",
    "de => 的\n",
    "property => 眼睛 | 裙子 | 胳膊 | 尾巴\n",
    "Adj* => null | Adj Adj*\n",
    "verb_phrase => verb noun_phrase\n",
    "Article =>  一个 | 这个\n",
    "noun =>   女人 |  篮球 | 桌子 | 小猫\n",
    "verb => 看着   |  坐在 |  听着 | 看见\n",
    "Adj =>   蓝色的 |  好看的 | 小小的\n",
    "\"\"\""
   ]
  },
  {
   "cell_type": "code",
   "execution_count": 86,
   "metadata": {},
   "outputs": [],
   "source": [
    "import random"
   ]
  },
  {
   "cell_type": "code",
   "execution_count": 87,
   "metadata": {},
   "outputs": [],
   "source": [
    "def parse_grammar(grammar_str, sep='=>'):\n",
    "    grammar = {}\n",
    "    for line in grammar_str.split('\\n'): \n",
    "        line = line.strip()\n",
    "        if not line: continue\n",
    "        \n",
    "        target, rules = line.split(sep)\n",
    "        \n",
    "        grammar[target.strip()] = [r.split() for r in rules.split('|')]\n",
    "    \n",
    "    return grammar"
   ]
  },
  {
   "cell_type": "code",
   "execution_count": 88,
   "metadata": {},
   "outputs": [],
   "source": [
    "def gene(grammar_parsed, target='sentence'):\n",
    "    if target not in grammar_parsed: return target\n",
    "    \n",
    "    rule = random.choice(grammar_parsed[target])\n",
    "    return ''.join(gene(grammar_parsed, target=r) for r in rule if r!='null')"
   ]
  },
  {
   "cell_type": "code",
   "execution_count": 89,
   "metadata": {},
   "outputs": [],
   "source": [
    "g = parse_grammar(grammar)"
   ]
  },
  {
   "cell_type": "code",
   "execution_count": 90,
   "metadata": {},
   "outputs": [],
   "source": [
    "random_generated = [gene(g) for _ in range(100)]"
   ]
  },
  {
   "cell_type": "code",
   "execution_count": 91,
   "metadata": {},
   "outputs": [
    {
     "data": {
      "text/plain": [
       "['这个女人的尾巴看着一个女人的尾巴',\n",
       " '这个桌子的裙子坐在一个女人的眼睛',\n",
       " '这个桌子的胳膊看着一个小猫的眼睛',\n",
       " '一个篮球的裙子看着一个女人的眼睛',\n",
       " '一个小猫的胳膊看见一个小猫的眼睛',\n",
       " '这个小猫的尾巴看着这个女人的裙子',\n",
       " '一个小猫的尾巴看着这个小小的女人的眼睛',\n",
       " '这个桌子的胳膊看着这个女人的裙子',\n",
       " '一个小小的小猫的尾巴看着一个桌子的眼睛',\n",
       " '这个女人的眼睛坐在这个小猫的裙子',\n",
       " '这个篮球的尾巴看着这个桌子的尾巴',\n",
       " '一个小猫的裙子看着一个小小的小猫的尾巴',\n",
       " '这个篮球的胳膊坐在这个桌子的尾巴',\n",
       " '一个桌子的胳膊看见这个篮球的尾巴',\n",
       " '一个小小的小猫的尾巴坐在这个小小的桌子的眼睛',\n",
       " '一个小猫的胳膊坐在一个小小的小猫的胳膊',\n",
       " '一个小猫的尾巴坐在一个小小的小小的小猫的眼睛',\n",
       " '这个小小的小小的女人的尾巴看着一个小猫的眼睛',\n",
       " '这个小小的小猫的眼睛看着这个小猫的裙子',\n",
       " '一个小猫的眼睛坐在一个篮球的胳膊',\n",
       " '这个桌子的胳膊看着这个小小的桌子的裙子',\n",
       " '一个小小的桌子的裙子看见一个小猫的胳膊',\n",
       " '一个篮球的尾巴看着这个篮球的裙子',\n",
       " '一个篮球的胳膊坐在一个桌子的裙子',\n",
       " '一个女人的胳膊坐在这个好看的女人的尾巴',\n",
       " '这个小猫的眼睛听着这个篮球的尾巴',\n",
       " '这个篮球的裙子听着一个桌子的尾巴',\n",
       " '一个女人的尾巴坐在这个蓝色的小猫的尾巴',\n",
       " '这个蓝色的女人的尾巴坐在一个女人的胳膊',\n",
       " '这个蓝色的小猫的胳膊坐在这个小猫的眼睛',\n",
       " '一个好看的女人的胳膊看着一个桌子的尾巴',\n",
       " '一个小小的篮球的胳膊听着这个桌子的胳膊',\n",
       " '一个篮球的尾巴听着一个篮球的胳膊',\n",
       " '这个蓝色的女人的裙子坐在这个女人的胳膊',\n",
       " '一个小小的蓝色的女人的裙子看着一个小猫的眼睛',\n",
       " '这个女人的胳膊坐在这个好看的小猫的胳膊',\n",
       " '这个女人的胳膊看着这个蓝色的小猫的裙子',\n",
       " '一个桌子的胳膊看着一个小小的小小的小小的小小的小猫的裙子',\n",
       " '这个小小的小小的篮球的胳膊听着一个女人的裙子',\n",
       " '这个桌子的裙子听着一个小小的小小的女人的胳膊',\n",
       " '一个桌子的胳膊看见这个好看的女人的胳膊',\n",
       " '这个女人的眼睛看见一个蓝色的小猫的裙子',\n",
       " '这个好看的女人的尾巴看见一个桌子的胳膊',\n",
       " '一个篮球的眼睛看着一个蓝色的女人的裙子',\n",
       " '这个好看的女人的胳膊听着一个小猫的眼睛',\n",
       " '这个蓝色的篮球的眼睛坐在这个桌子的眼睛',\n",
       " '这个篮球的尾巴看着这个蓝色的篮球的眼睛',\n",
       " '这个篮球的裙子看见一个好看的女人的尾巴',\n",
       " '一个蓝色的小小的小猫的尾巴看着这个篮球的眼睛',\n",
       " '一个小小的小猫的尾巴听着一个好看的女人的眼睛',\n",
       " '一个好看的女人的胳膊听着一个篮球的眼睛',\n",
       " '一个好看的小小的桌子的尾巴看见这个小猫的眼睛',\n",
       " '一个小猫的眼睛坐在这个蓝色的小小的女人的尾巴',\n",
       " '这个小小的小猫的眼睛坐在这个蓝色的桌子的尾巴',\n",
       " '这个好看的小小的小猫的尾巴坐在一个小猫的胳膊',\n",
       " '一个小小的蓝色的小小的桌子的眼睛看着一个桌子的尾巴',\n",
       " '这个桌子的裙子看着这个蓝色的小小的桌子的胳膊',\n",
       " '这个篮球的眼睛听着一个好看的女人的裙子',\n",
       " '这个小猫的眼睛看着这个好看的小小的篮球的裙子',\n",
       " '一个小小的蓝色的篮球的尾巴看见这个小小的女人的裙子',\n",
       " '这个女人的胳膊看见一个好看的蓝色的女人的裙子',\n",
       " '一个小小的好看的蓝色的女人的眼睛坐在这个小小的女人的眼睛',\n",
       " '这个蓝色的蓝色的小猫的胳膊坐在一个篮球的眼睛',\n",
       " '一个好看的好看的桌子的胳膊看着这个女人的眼睛',\n",
       " '一个小小的女人的尾巴听着这个蓝色的篮球的裙子',\n",
       " '这个蓝色的小小的篮球的眼睛听着这个小猫的胳膊',\n",
       " '一个桌子的裙子听着一个小小的好看的小小的小猫的胳膊',\n",
       " '这个篮球的裙子听着这个蓝色的小小的小猫的胳膊',\n",
       " '这个小猫的裙子看见这个好看的小小的好看的女人的眼睛',\n",
       " '这个好看的篮球的胳膊看见一个蓝色的桌子的眼睛',\n",
       " '一个小小的女人的裙子坐在一个好看的蓝色的小猫的裙子',\n",
       " '一个小小的小小的桌子的眼睛看着一个蓝色的蓝色的桌子的胳膊',\n",
       " '一个蓝色的小猫的胳膊坐在这个小小的好看的小小的桌子的尾巴',\n",
       " '一个蓝色的桌子的胳膊看着一个好看的小小的篮球的胳膊',\n",
       " '一个小小的好看的蓝色的小小的桌子的尾巴看着一个小小的桌子的胳膊',\n",
       " '这个小小的蓝色的小小的篮球的眼睛坐在一个蓝色的小猫的胳膊',\n",
       " '一个好看的小小的好看的女人的胳膊听着一个篮球的胳膊',\n",
       " '一个蓝色的蓝色的好看的女人的胳膊看着一个桌子的胳膊',\n",
       " '一个蓝色的好看的女人的尾巴看见这个小小的蓝色的女人的尾巴',\n",
       " '这个蓝色的篮球的眼睛听着一个蓝色的小小的篮球的眼睛',\n",
       " '这个蓝色的好看的桌子的裙子看着一个蓝色的女人的眼睛',\n",
       " '这个蓝色的女人的裙子看见一个好看的蓝色的桌子的尾巴',\n",
       " '一个桌子的胳膊坐在这个好看的好看的蓝色的篮球的尾巴',\n",
       " '一个好看的蓝色的小小的女人的眼睛看见这个蓝色的篮球的眼睛',\n",
       " '一个蓝色的小小的篮球的尾巴听着这个好看的小小的女人的胳膊',\n",
       " '一个好看的好看的好看的篮球的尾巴看着一个女人的裙子',\n",
       " '这个好看的好看的小猫的尾巴看着一个好看的篮球的裙子',\n",
       " '一个小小的好看的好看的蓝色的小小的桌子的胳膊看着这个桌子的胳膊',\n",
       " '这个小小的小小的小小的小小的好看的好看的桌子的裙子听着一个小小的小小的桌子的眼睛',\n",
       " '一个小小的好看的好看的蓝色的小猫的眼睛坐在这个好看的小猫的尾巴',\n",
       " '一个好看的好看的好看的小小的小猫的裙子听着这个女人的胳膊',\n",
       " '一个小小的小小的小小的好看的蓝色的篮球的尾巴听着这个小小的蓝色的女人的胳膊',\n",
       " '这个小小的好看的蓝色的篮球的胳膊看见一个好看的蓝色的篮球的胳膊',\n",
       " '这个桌子的眼睛听着这个小小的好看的好看的好看的蓝色的女人的眼睛',\n",
       " '一个好看的蓝色的好看的好看的篮球的裙子听着一个女人的胳膊',\n",
       " '一个小小的好看的小猫的胳膊看见这个小小的好看的小小的蓝色的蓝色的小小的桌子的胳膊',\n",
       " '这个好看的桌子的胳膊听着这个好看的好看的好看的桌子的裙子',\n",
       " '一个小小的小小的小小的蓝色的蓝色的蓝色的小小的篮球的裙子坐在这个好看的好看的桌子的尾巴',\n",
       " '这个小小的小小的蓝色的好看的好看的蓝色的小小的小小的好看的桌子的裙子坐在一个蓝色的女人的尾巴',\n",
       " '这个好看的小小的蓝色的好看的篮球的裙子听着这个好看的好看的好看的小小的好看的好看的小小的桌子的裙子']"
      ]
     },
     "execution_count": 91,
     "metadata": {},
     "output_type": "execute_result"
    }
   ],
   "source": [
    "sorted(random_generated, key=langauge_model_of_2_gram, reverse=True)"
   ]
  },
  {
   "cell_type": "markdown",
   "metadata": {},
   "source": [
    "Step 5: If we need to solve following problems, how can language model help us?\n",
    "Voice Recognization.\n",
    "Sogou pinyin input.\n",
    "Auto correction in search engine.\n",
    "Abnormal Detection.\n",
    "Ans:这些问题和我们建立的语言模型解决的问题类似，可以建立一个库，然后进行条件概率对比，\n",
    "    看看输出是否正常。"
   ]
  },
  {
   "cell_type": "markdown",
   "metadata": {},
   "source": [
    "Compared to the previous learned parsing and pattern match problems. What's the advantage and disavantage of Probability Based Methods?¶\n",
    "Ans:Probability Based Methods的优点：更加简单，容易实现。\n",
    "    缺点：结果与所选的语料库是否适合有很大关系。"
   ]
  },
  {
   "cell_type": "markdown",
   "metadata": {},
   "source": [
    "\n",
    "(Optional) How to solve OOV problem?\n",
    "If some words are not in our dictionary or corpus. When we using language model, we need to overcome this out-of-vocabulary(OOV) problems. There are so many intelligent man to solve this probelm.\n",
    "\n",
    "--\n",
    "\n",
    "The first question is:\n",
    "\n",
    "Q1: How did you solve this problem in your programming task?\n",
    "\n",
    "Ans:可以给这些不在语料库中的词语一个很小的概率。\n",
    "\n",
    "Then, the sencond question is:\n",
    "\n",
    "Q2: Read about the 'Turing-Good Estimator', can explain the main points about this method, and may implement this method in your programming task"
   ]
  }
 ],
 "metadata": {
  "kernelspec": {
   "display_name": "Python 3",
   "language": "python",
   "name": "python3"
  },
  "language_info": {
   "codemirror_mode": {
    "name": "ipython",
    "version": 3
   },
   "file_extension": ".py",
   "mimetype": "text/x-python",
   "name": "python",
   "nbconvert_exporter": "python",
   "pygments_lexer": "ipython3",
   "version": "3.7.1"
  }
 },
 "nbformat": 4,
 "nbformat_minor": 2
}
